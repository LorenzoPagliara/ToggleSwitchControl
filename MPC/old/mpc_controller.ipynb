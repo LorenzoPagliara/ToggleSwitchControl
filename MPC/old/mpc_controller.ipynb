{
 "cells": [
  {
   "cell_type": "code",
   "execution_count": 12,
   "metadata": {},
   "outputs": [],
   "source": [
    "import do_mpc\n",
    "from casadi import *"
   ]
  },
  {
   "cell_type": "markdown",
   "metadata": {},
   "source": [
    "# Dynamic Model\n",
    "\n",
    "This function defines the mathematical model for the toggle switch in the form of differential equations (ODE).\n",
    "\n",
    "Defining $mRNA\\_LacI$ the concentration of the mRNA associated with the _lacI gene_, $mRNA\\_TetR$ the concentration of the mRNA associated with the _TetR gene_, $LacI$ the concentration of _LacI_ and $TetR$ the concentration of _TetR_, the system can be described via the following set of ODEs:\n",
    "\n",
    "\\begin{equation*}\n",
    "    \\begin{split}\n",
    "        &\\dot{mRNA_LacI} = k^{m_0}_L + k^m_L \\frac{1}{1 + \\left(\\frac{TetR}{\\theta_{TetR}} \\frac{1}{1 + \\left(\\frac{v_1}{\\theta_{aTc}}\\right)^{\\eta_{aTc}}}\\right)^{\\eta_{TetR}}} - g^m_L mRNA\\_LacI\\\\\n",
    "        &\\dot{mRNA_TetR} = k^{m_0}_T + k^m_T \\frac{1}{1 + \\left(\\frac{LacI}{\\theta_{LacI}} \\frac{1}{1 + \\left(\\frac{v_2}{\\theta_{IPTG}}\\right)^{\\eta_{IPTG}}}\\right)^{\\eta_{LacI}}} - g^m_T mRNA\\_TetR\\\\\n",
    "        &\\dot{LacI} = k^p_L mRNA\\_LacI - g^p_L LacI\\\\\n",
    "        &\\dot{TetR} = k^p_T mRNA\\_TetR - g^p_T TetR\\\\ \\\\\n",
    "        &\\dot{v_1} = \\begin{cases} k^{in}_{aTc}(aTc - v_1) \\quad if \\quad  aTc > v_1\\\\ k^{out}_{aTc}(aTc - v_1) \\quad if aTc \\leq v_1 \\end{cases}\\\\\n",
    "        &\\dot{v_2} = \\begin{cases} k^{in}_{IPTG}(IPTG - v_2) \\quad if \\quad IPTG > v_2\\\\ k^{out}_{IPTG}(IPTG - v_2) \\quad if IPTG \\leq v_2 \\end{cases}\n",
    "    \\end{split}\n",
    "\\end{equation*}\n",
    "\n",
    "whre $aTc$ and $IPTG$ are extra-cellular concentrations of aTc and IPTg, respectively, and $v_1$ and $v_2$ are intra-cellular concentrations of aTc and IPTg, respectively.\n",
    "\n",
    "The model parameters are:\n",
    "<center>\n",
    "\n",
    "| Parameter  | Value| Meaning|\n",
    "|------------  |---------------|-----------------------------------------  |\n",
    "|$k\\_m0\\_L    $| $3.20e^{-2}$  | Basal expression level of the LacI      |\n",
    "|$k\\_m0\\_T    $| $1.19e^{-1}$  | Basal expression level of the TetR      |\n",
    "|$k\\_m\\_L     $| $8.30$        | Maximal transcription rate of LacI mRNA |\n",
    "|$k\\_m\\_T     $| $2.06$        | Maximal transcription rate TetR mRNA    |\n",
    "|$k\\_p\\_L     $| $9.726e^{-1}$ | Rate of production of LacI              |\n",
    "|$k\\_p\\_T     $| $9.726e^{-1}$ | Rate of production of TetR              |\n",
    "|$g\\_m\\_L     $| $1.386e^{-1}$ | Degradation rate of LacI mRNA           |\n",
    "|$g\\_m\\_T     $| $1.386e^{-1}$ | Degradation rate of TetR mRNA           |\n",
    "|$g\\_p\\_L     $| $1.65e^{-2}$  | Degradation rate of LacI                |\n",
    "|$g\\_p\\_T     $| $1.65e^{-2}$  | Degradation rate of TetR                |\n",
    "|$theta\\_LacI $| $31.94$       | Dissociation constants of LacI          |\n",
    "|$theta\\_TetR $| $30.00$       | Dissociation constants of TetR          |\n",
    "|$theta\\_IPTG $| $9.06e^{-2}$  | Dissociation constants of IPTG          |\n",
    "|$theta\\_aTc  $| $11.65$       | Dissociation constants of aTC           |\n",
    "|$eta\\_LacI   $| $2.00$        | Hill coefficient of LacI                |\n",
    "|$eta\\_TetR   $| $2.00$        | Hill coefficient of TetR                |\n",
    "|$eta\\_IPTG   $| $2.00$        | Hill coefficient of IPTG                |\n",
    "|$eta\\_aTc    $| $2.00$        | Hill coefficient of aTc                 |\n",
    "|$k\\_in\\_aTc  $| $2.75e^{-2}$  |                                         |\n",
    "|$k\\_out\\_aTc $| $2.00e^{-2}$  |                                         |\n",
    "|$k\\_in\\_IPTG $| $1.62e^{-1}$  |                                         |\n",
    "|$k\\_out\\_IPTG$| $1.11e^{-1}$  |                                         |\n",
    "    \n",
    "\n"
   ]
  },
  {
   "cell_type": "code",
   "execution_count": 13,
   "metadata": {},
   "outputs": [],
   "source": [
    "def template_model(stochasticity=False):\n",
    "\n",
    "    model = do_mpc.model.Model(model_type='continuous')\n",
    "\n",
    "    # Model states\n",
    "    mRNA_LacI = model.set_variable(var_type='states', var_name='mRNA_LacI')\n",
    "    mRNA_TetR = model.set_variable(var_type='states', var_name='mRNA_TetR')\n",
    "    lacI = model.set_variable(var_type='states', var_name='LacI')\n",
    "    tetR = model.set_variable(var_type='states', var_name='TetR')\n",
    "    v1 = model.set_variable(var_type='states', var_name='v1')\n",
    "    v2 = model.set_variable(var_type='states', var_name='v2')\n",
    "\n",
    "    # Model inputs\n",
    "    aTc = model.set_variable(var_type='inputs', var_name='aTc')\n",
    "    iptg = model.set_variable(var_type='inputs', var_name='IPTG')\n",
    "\n",
    "    # Model parameters\n",
    "    k_m0_L = 3.20e-2\n",
    "    k_m0_T = 1.19e-1\n",
    "    k_m_L = 8.30\n",
    "    k_m_T = 2.06\n",
    "    k_p_L = 9.726e-1\n",
    "    k_p_T = 9.726e-1\n",
    "    g_m_L = 1.386e-1\n",
    "    g_m_T = 1.386e-1\n",
    "    g_p_L = 1.65e-2\n",
    "    g_p_T = 1.65e-2\n",
    "    theta_LacI = 31.94\n",
    "    theta_TetR = 30.00\n",
    "    theta_IPTG = 9.06e-2\n",
    "    theta_aTc = 11.65\n",
    "    eta_LacI = 2.00\n",
    "    eta_TetR = 2.00\n",
    "    eta_IPTG = 2.00\n",
    "    eta_aTc = 2.00\n",
    "    k_in_aTc = 2.75e-2\n",
    "    k_out_aTc = 2.00e-2\n",
    "    k_in_IPTG = 1.62e-1\n",
    "    k_out_IPTG = 1.11e-1\n",
    "\n",
    "    # Model references\n",
    "    LacI_ref = 750\n",
    "    TetR_ref = 300\n",
    "\n",
    "    # Defining model's equations\n",
    "    model.set_rhs('mRNA_LacI', k_m0_L + k_m_L*(1 / (1 + ((tetR/theta_TetR) * (1 /\n",
    "                  (1 + (v1/theta_aTc)**eta_aTc)))**eta_TetR)) - g_m_L * mRNA_LacI, process_noise=stochasticity)\n",
    "    model.set_rhs('mRNA_TetR', k_m0_T + k_m_T*(1 / (1 + ((lacI/theta_LacI) * (1 /\n",
    "                  (1 + (v2/theta_IPTG)**eta_IPTG)))**eta_LacI)) - g_m_T * mRNA_TetR, process_noise=stochasticity)\n",
    "    model.set_rhs('LacI', k_p_L * mRNA_LacI - g_p_L *\n",
    "                  lacI, process_noise=stochasticity)\n",
    "    model.set_rhs('TetR', k_p_T * mRNA_TetR - g_p_T *\n",
    "                  tetR, process_noise=stochasticity)\n",
    "    model.set_rhs('v1', (k_in_aTc * (aTc - v1)) * (aTc > v1) +\n",
    "                  (k_out_aTc * (aTc - v1)) * (aTc <= v1), process_noise=stochasticity)\n",
    "    model.set_rhs('v2', (k_in_IPTG * (iptg - v2)) * (iptg > v2) +\n",
    "                  (k_out_IPTG * (iptg - v2)) * (iptg <= v2), process_noise=stochasticity)\n",
    "\n",
    "    # The process noise w is used to simulate a disturbed system in the Simulator\n",
    "\n",
    "    # Measurement noise\n",
    "    if stochasticity:\n",
    "        model.n_v = np.random.randn(6, 1)\n",
    "\n",
    "    # Cost function\n",
    "    model.set_expression(expr_name='cost', expr=(\n",
    "        lacI - LacI_ref)**2 + (tetR - TetR_ref)**2)    \n",
    "\n",
    "    model.setup()\n",
    "\n",
    "    return model\n"
   ]
  },
  {
   "cell_type": "markdown",
   "metadata": {},
   "source": [
    "# MPC Controller\n",
    "\n",
    "This function configure and setup the MPC controller, given the model previously defined.\n",
    "\n",
    "Going into detail, it defines the cost function and the constraints on state variables and inputs."
   ]
  },
  {
   "cell_type": "code",
   "execution_count": 14,
   "metadata": {},
   "outputs": [],
   "source": [
    "def template_mpc(model, setup_mpc):\n",
    "\n",
    "    mpc = do_mpc.controller.MPC(model)\n",
    "\n",
    "    mpc.set_param(**setup_mpc)\n",
    "\n",
    "    # Cost function\n",
    "    mterm = model.aux['cost']\n",
    "    lterm = model.aux['cost']\n",
    "\n",
    "    mpc.set_objective(mterm=mterm, lterm=lterm)\n",
    "    mpc.set_rterm(aTc=1, IPTG=1)\n",
    "\n",
    "    # Constraints\n",
    "    mpc.bounds['lower', '_x', 'mRNA_LacI'] = 3.20e-2\n",
    "    mpc.bounds['lower', '_x', 'mRNA_TetR'] = 1.19e-1\n",
    "\n",
    "    mpc.bounds['lower', '_x', 'LacI'] = 0\n",
    "    mpc.bounds['lower', '_x', 'TetR'] = 0\n",
    "\n",
    "    mpc.bounds['lower', '_x', 'v1'] = 0\n",
    "    mpc.bounds['lower', '_x', 'v2'] = 0\n",
    "\n",
    "    mpc.bounds['lower', '_u', 'aTc'] = 0\n",
    "    mpc.bounds['upper', '_u', 'aTc'] = 35\n",
    "\n",
    "    mpc.bounds['lower', '_u', 'IPTG'] = 0\n",
    "    mpc.bounds['upper', '_u', 'IPTG'] = 0.35\n",
    "\n",
    "    mpc.setup()\n",
    "\n",
    "    return mpc\n"
   ]
  },
  {
   "cell_type": "markdown",
   "metadata": {},
   "source": [
    "# Simulator\n",
    "\n",
    "This function configure and setup the simulator, necessary for a first testing phase of the developed control approach."
   ]
  },
  {
   "cell_type": "code",
   "execution_count": 15,
   "metadata": {},
   "outputs": [],
   "source": [
    "def template_simulator(model, t_step):\n",
    "\n",
    "    simulator = do_mpc.simulator.Simulator(model)\n",
    "    simulator.set_param(t_step=t_step)\n",
    "\n",
    "    simulator.setup()\n",
    "\n",
    "    return simulator"
   ]
  },
  {
   "cell_type": "markdown",
   "metadata": {},
   "source": [
    "# Simulation parameters\n",
    "\n",
    "| Parameter  | Value| Meaning|\n",
    "|-------------|------|--------|\n",
    "|$total\\_time$|86400 s (24 h)| Total simulation time|\n",
    "|$t\\_step$|60s (1m)|Sample time|\n",
    "|$steps$|1440|Number of iterations of the control loop|\n",
    "|$avg\\_period$|14400 s (240m)|Period for calculating the average trajectory of the outputs|\n"
   ]
  },
  {
   "cell_type": "code",
   "execution_count": 22,
   "metadata": {},
   "outputs": [],
   "source": [
    "total_time = 86400  # Total simulation time 24h (86400s)\n",
    "t_step = 60  # Read states every 1m (60s)\n",
    "steps = int(total_time/t_step)  # Number of control step total_time/t_step 1440\n",
    "avg_period = 14400  # Get average trajectory every 240 m (14400s)"
   ]
  },
  {
   "cell_type": "markdown",
   "metadata": {},
   "source": [
    "# Initial conditions"
   ]
  },
  {
   "cell_type": "code",
   "execution_count": 23,
   "metadata": {},
   "outputs": [],
   "source": [
    "x_0 = np.array([30, 50, 400, 125, 0, 0])"
   ]
  }
 ],
 "metadata": {
  "kernelspec": {
   "display_name": "Python 3.10.4 64-bit",
   "language": "python",
   "name": "python3"
  },
  "language_info": {
   "codemirror_mode": {
    "name": "ipython",
    "version": 3
   },
   "file_extension": ".py",
   "mimetype": "text/x-python",
   "name": "python",
   "nbconvert_exporter": "python",
   "pygments_lexer": "ipython3",
   "version": "3.10.4"
  },
  "orig_nbformat": 4,
  "vscode": {
   "interpreter": {
    "hash": "916dbcbb3f70747c44a77c7bcd40155683ae19c65e1c03b4aa3499c5328201f1"
   }
  }
 },
 "nbformat": 4,
 "nbformat_minor": 2
}
