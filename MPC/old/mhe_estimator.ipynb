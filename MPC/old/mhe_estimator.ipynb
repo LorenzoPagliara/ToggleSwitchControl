{
 "cells": [
  {
   "cell_type": "code",
   "execution_count": 1,
   "metadata": {},
   "outputs": [],
   "source": [
    "import numpy as np\n",
    "import do_mpc\n",
    "from casadi import *"
   ]
  },
  {
   "cell_type": "markdown",
   "metadata": {},
   "source": [
    "# Dynamic Model\n",
    "\n",
    "This function defines the mathematical model for the toggle switch in the form of differential equations (ODE).\n",
    "\n",
    "Defining $mRNA\\_LacI$ the concentration of the mRNA associated with the _lacI gene_, $mRNA\\_TetR$ the concentration of the mRNA associated with the _TetR gene_, $LacI$ the concentration of _LacI_ and $TetR$ the concentration of _TetR_, the system can be described via the following set of ODEs:\n",
    "\n",
    "\\begin{equation*}\n",
    "    \\begin{split}\n",
    "        &\\dot{mRNA_LacI} = k^{m_0}_L + k^m_L \\frac{1}{1 + \\left(\\frac{TetR}{\\theta_{TetR}} \\frac{1}{1 + \\left(\\frac{v_1}{\\theta_{aTc}}\\right)^{\\eta_{aTc}}}\\right)^{\\eta_{TetR}}} - g^m_L mRNA\\_LacI\\\\\n",
    "        &\\dot{mRNA_TetR} = k^{m_0}_T + k^m_T \\frac{1}{1 + \\left(\\frac{LacI}{\\theta_{LacI}} \\frac{1}{1 + \\left(\\frac{v_2}{\\theta_{IPTG}}\\right)^{\\eta_{IPTG}}}\\right)^{\\eta_{LacI}}} - g^m_T mRNA\\_TetR\\\\\n",
    "        &\\dot{LacI} = k^p_L mRNA\\_LacI - g^p_L LacI\\\\\n",
    "        &\\dot{TetR} = k^p_T mRNA\\_TetR - g^p_T TetR\\\\ \\\\\n",
    "        &\\dot{v_1} = \\begin{cases} k^{in}_{aTc}(aTc - v_1) \\quad if \\quad  aTc > v_1\\\\ k^{out}_{aTc}(aTc - v_1) \\quad if aTc \\leq v_1 \\end{cases}\\\\\n",
    "        &\\dot{v_2} = \\begin{cases} k^{in}_{IPTG}(IPTG - v_2) \\quad if \\quad IPTG > v_2\\\\ k^{out}_{IPTG}(IPTG - v_2) \\quad if IPTG \\leq v_2 \\end{cases}\n",
    "    \\end{split}\n",
    "\\end{equation*}\n",
    "\n",
    "whre $aTc$ and $IPTG$ are extra-cellular concentrations of aTc and IPTg, respectively, and $v_1$ and $v_2$ are intra-cellular concentrations of aTc and IPTg, respectively.\n",
    "\n",
    "The model parameters are not defined as they need to be estimated."
   ]
  },
  {
   "cell_type": "code",
   "execution_count": 2,
   "metadata": {},
   "outputs": [],
   "source": [
    "def template_model(stochasticity=False):\n",
    "\n",
    "    model = do_mpc.model.Model(model_type='continuous')\n",
    "\n",
    "    # Model states\n",
    "    x = model.set_variable(var_type='states', var_name='x', shape = (4, 1))\n",
    "    dx = model.set_variable(var_type='states', var_name='dx', shape = (4, 1))\n",
    "\n",
    "    # Model inputs\n",
    "    u = model.set_variable(var_type='inputs', var_name='u', shape = (2, 1))\n",
    "\n",
    "    # State measurements\n",
    "    x_meas = model.set_meas('x_meas', x, meas_noise = True)\n",
    "\n",
    "    # Input measurements\n",
    "    u_meas = model.set_meas('u_meas', u, meas_noise = False)\n",
    "\n",
    "\n",
    "    # Model parameters\n",
    "    k_m0_L = model.set_variable('parameter', 'k_m0_L')\n",
    "    k_m0_T = model.set_variable('parameter', 'k_m0_T')\n",
    "    k_m_L = model.set_variable('parameter', 'k_m_L')\n",
    "    k_m_T = model.set_variable('parameter', 'k_m_T')\n",
    "    k_p_L = model.set_variable('parameter', 'k_p_L')\n",
    "    k_p_T = model.set_variable('parameter', 'k_p_T')\n",
    "    g_m_L = model.set_variable('parameter', 'g_m_L')\n",
    "    g_m_T = model.set_variable('parameter', 'g_m_T')\n",
    "    g_p_L = model.set_variable('parameter', 'g_p_L')\n",
    "    g_p_T = model.set_variable('parameter', 'g_p_T')\n",
    "    theta_LacI = model.set_variable('parameter', 'theta_LacI')\n",
    "    theta_TetR = model.set_variable('parameter', 'theta_TetR')\n",
    "    theta_IPTG = model.set_variable('parameter', 'theta_IPTG')\n",
    "    theta_aTc = model.set_variable('parameter', 'theta_aTc')\n",
    "    eta_LacI = 2.00\n",
    "    eta_TetR = 2.00\n",
    "    eta_IPTG = 2.00\n",
    "    eta_aTc = 2.00\n",
    "\n",
    "    model.set_rhs('x', dx)\n",
    "    \n",
    "    dx_next = vertcat(\n",
    "        k_m0_L + k_m_L*(1 / (1 + ((x[3]/theta_TetR) * (1 / (1 + (u[0]/theta_aTc)**eta_aTc)))**eta_TetR)) - g_m_L * x[0],\n",
    "        k_m0_T + k_m_T*(1 / (1 + ((x[2]/theta_LacI) * (1 / (1 + (u[1]/theta_IPTG)**eta_IPTG)))**eta_LacI)) - g_m_T * x[1],\n",
    "        k_p_L * x[0] - g_p_L * x[2],\n",
    "        k_p_T * x[1] - g_p_T * x[3]\n",
    "    )\n",
    "    \n",
    "    model.set_rhs('dx', dx_next, process_noise = False)\n",
    "    \n",
    "    model.setup()\n",
    "\n",
    "    return model\n"
   ]
  },
  {
   "cell_type": "markdown",
   "metadata": {},
   "source": [
    "# MHE Estimator\n",
    "\n",
    "This function configure and setup the MHE estimator, given the model previously defined.\n",
    "\n",
    "Going into detail, it defines the objective function for the MHE problem and the weighting matrices associated. Furthermore, define constraints on parameters values."
   ]
  },
  {
   "cell_type": "code",
   "execution_count": 3,
   "metadata": {},
   "outputs": [],
   "source": [
    "def template_mhe(model, setup_mhe):\n",
    "\n",
    "    mhe = do_mpc.estimator.MHE(model, ['k_m0_L', 'k_m0_T', 'k_m_L', 'k_m_T', 'k_p_L', 'k_p_T', 'g_m_L', 'g_m_T', 'g_p_L', 'g_p_T', 'theta_LacI',\n",
    "                               'theta_TetR', 'theta_IPTG', 'theta_aTc'])\n",
    "\n",
    "    mhe.set_param(**setup_mhe)\n",
    "    \n",
    "    Px = 50*np.eye(8)\n",
    "    Pv = 10*np.diag(np.array([1,1,1,1]))\n",
    "    Pp = 1000*np.eye(14)\n",
    "    mhe.set_default_objective(Px, Pv, Pp)\n",
    "\n",
    "    mhe.bounds['lower','_p_est', 'k_m0_L'] = 0\n",
    "    mhe.bounds['lower','_p_est', 'k_m0_T'] = 0\n",
    "    mhe.bounds['lower','_p_est', 'k_m_L'] = 0\n",
    "    mhe.bounds['lower','_p_est', 'k_m_T'] = 0\n",
    "    mhe.bounds['lower','_p_est', 'k_p_L'] = 0\n",
    "    mhe.bounds['lower','_p_est', 'k_p_T'] = 0\n",
    "    mhe.bounds['lower','_p_est', 'g_m_L'] = 0\n",
    "    mhe.bounds['lower','_p_est', 'g_m_T'] = 0\n",
    "    mhe.bounds['lower','_p_est', 'g_p_L'] = 0\n",
    "    mhe.bounds['lower','_p_est', 'g_p_T'] = 0\n",
    "    mhe.bounds['lower','_p_est', 'theta_LacI'] = 0\n",
    "    mhe.bounds['lower','_p_est', 'theta_TetR'] = 0\n",
    "    mhe.bounds['lower','_p_est', 'theta_IPTG'] = 0\n",
    "    mhe.bounds['lower','_p_est', 'theta_aTc'] = 0\n",
    "\n",
    "    mhe.setup()\n",
    "\n",
    "    return mhe\n"
   ]
  },
  {
   "cell_type": "markdown",
   "metadata": {},
   "source": [
    "# Simulator\n",
    "\n",
    "This function configure and setup the simulator.h."
   ]
  },
  {
   "cell_type": "code",
   "execution_count": 4,
   "metadata": {},
   "outputs": [],
   "source": [
    "def template_simulator(model, t_step):\n",
    "\n",
    "    simulator = do_mpc.simulator.Simulator(model)\n",
    "    simulator.set_param(t_step=t_step)\n",
    "\n",
    "    p_template_sim = simulator.get_p_template()\n",
    "\n",
    "    def p_fun_sim(t_now):\n",
    "\n",
    "        p_template_sim['k_m0_L'] = 3.20e-2\n",
    "        p_template_sim['k_m0_T']= 1.19e-1\n",
    "        p_template_sim['k_m_L'] = 8.30\n",
    "        p_template_sim['k_m_T'] = 2.06\n",
    "        p_template_sim['k_p_L'] = 9.726e-1\n",
    "        p_template_sim['k_p_T'] = 9.726e-1\n",
    "        p_template_sim['g_m_L'] = 1.386e-1\n",
    "        p_template_sim['g_m_T'] = 1.386e-1\n",
    "        p_template_sim['g_p_L'] = 1.65e-2\n",
    "        p_template_sim['g_p_T'] = 1.65e-2\n",
    "        p_template_sim['theta_LacI'] = 31.94\n",
    "        p_template_sim['theta_TetR'] = 30.00\n",
    "        p_template_sim['theta_IPTG'] = 9.06e-2\n",
    "        p_template_sim['theta_aTc'] = 11.65\n",
    "        return p_template_sim\n",
    "        \n",
    "    simulator.set_p_fun(p_fun_sim)\n",
    "\n",
    "    simulator.setup()\n",
    "\n",
    "    return simulator\n"
   ]
  }
 ],
 "metadata": {
  "kernelspec": {
   "display_name": "Python 3.10.4 64-bit",
   "language": "python",
   "name": "python3"
  },
  "language_info": {
   "codemirror_mode": {
    "name": "ipython",
    "version": 3
   },
   "file_extension": ".py",
   "mimetype": "text/x-python",
   "name": "python",
   "nbconvert_exporter": "python",
   "pygments_lexer": "ipython3",
   "version": "3.10.4"
  },
  "orig_nbformat": 4,
  "vscode": {
   "interpreter": {
    "hash": "916dbcbb3f70747c44a77c7bcd40155683ae19c65e1c03b4aa3499c5328201f1"
   }
  }
 },
 "nbformat": 4,
 "nbformat_minor": 2
}
