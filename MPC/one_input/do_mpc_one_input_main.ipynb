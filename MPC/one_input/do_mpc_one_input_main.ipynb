{
 "cells": [
  {
   "cell_type": "code",
   "execution_count": 12,
   "metadata": {},
   "outputs": [],
   "source": [
    "import do_mpc\n",
    "from casadi import *"
   ]
  },
  {
   "cell_type": "code",
   "execution_count": 13,
   "metadata": {},
   "outputs": [],
   "source": [
    "def template_model(stochasticity=False):\n",
    "\n",
    "    model = do_mpc.model.Model(model_type='continuous')\n",
    "\n",
    "    # Model states\n",
    "    mRNA_LacI = model.set_variable(var_type='states', var_name='mRNA_LacI')\n",
    "    mRNA_TetR = model.set_variable(var_type='states', var_name='mRNA_TetR')\n",
    "    lacI = model.set_variable(var_type='states', var_name='LacI')\n",
    "    tetR = model.set_variable(var_type='states', var_name='TetR')\n",
    "    v1 = model.set_variable(var_type='states', var_name='v1')\n",
    "    v2 = model.set_variable(var_type='states', var_name='v2')\n",
    "\n",
    "    # Model input\n",
    "    phi = model.set_variable(var_type='inputs', var_name='phi')\n",
    "\n",
    "    # Model parameters\n",
    "    k_m0_L = 3.20e-2\n",
    "    k_m0_T = 1.19e-1\n",
    "    k_m_L = 8.30\n",
    "    k_m_T = 2.06\n",
    "    k_p_L = 9.726e-1\n",
    "    k_p_T = 9.726e-1\n",
    "    g_m_L = 1.386e-1\n",
    "    g_m_T = 1.386e-1\n",
    "    g_p_L = 1.65e-2\n",
    "    g_p_T = 1.65e-2\n",
    "    theta_LacI = 31.94\n",
    "    theta_TetR = 30.00\n",
    "    theta_IPTG = 9.06e-2\n",
    "    theta_aTc = 11.65\n",
    "    eta_LacI = 2.00\n",
    "    eta_TetR = 2.00\n",
    "    eta_IPTG = 2.00\n",
    "    eta_aTc = 2.00\n",
    "    k_in_aTc = 2.75e-2\n",
    "    k_out_aTc = 2.00e-2\n",
    "    k_in_IPTG = 1.62e-1\n",
    "    k_out_IPTG = 1.11e-1\n",
    "\n",
    "    # Model references\n",
    "    LacI_ref = 750\n",
    "    TetR_ref = 300\n",
    "\n",
    "    aTc_max = 35\n",
    "    iptg_max = 0.35\n",
    "\n",
    "    # Defining model's equations\n",
    "    model.set_rhs('mRNA_LacI', k_m0_L + k_m_L*(1 / (1 + ((tetR/theta_TetR) * (1 /\n",
    "                  (1 + (v1/theta_aTc)**eta_aTc)))**eta_TetR)) - g_m_L * mRNA_LacI, process_noise=stochasticity)\n",
    "    model.set_rhs('mRNA_TetR', k_m0_T + k_m_T*(1 / (1 + ((lacI/theta_LacI) * (1 /\n",
    "                  (1 + (v2/theta_IPTG)**eta_IPTG)))**eta_LacI)) - g_m_T * mRNA_TetR, process_noise=stochasticity)\n",
    "    model.set_rhs('LacI', k_p_L * mRNA_LacI - g_p_L *\n",
    "                  lacI, process_noise=stochasticity)\n",
    "    model.set_rhs('TetR', k_p_T * mRNA_TetR - g_p_T *\n",
    "                  tetR, process_noise=stochasticity)\n",
    "    model.set_rhs('v1', (k_in_aTc * ((phi * aTc_max) - v1)) * ((phi * aTc_max) > v1) +\n",
    "                  (k_out_aTc * ((phi * aTc_max) - v1)) * ((phi * aTc_max) <= v1), process_noise=stochasticity)\n",
    "    model.set_rhs('v2', (k_in_IPTG * (((1 - phi) * iptg_max) - v2)) * (((1 - phi) * iptg_max) > v2) +\n",
    "                  (k_out_IPTG * (((1 - phi) * iptg_max) - v2)) * (((1 - phi) * iptg_max) <= v2), process_noise=stochasticity)\n",
    "\n",
    "    # The process noise w is used to simulate a disturbed system in the Simulator\n",
    "\n",
    "    # Measurement noise\n",
    "    if stochasticity:\n",
    "        model.n_v = np.random.randn(6, 1)\n",
    "\n",
    "    # Cost function\n",
    "    model.set_expression(expr_name='cost', expr=((lacI - LacI_ref)**2 + (tetR - TetR_ref)**2))  \n",
    "\n",
    "    model.setup()\n",
    "\n",
    "    return model\n"
   ]
  },
  {
   "cell_type": "markdown",
   "metadata": {},
   "source": [
    "# MPC Controller\n",
    "\n",
    "This function configure and setup the MPC controller, given the model previously defined.\n",
    "\n",
    "Going into detail, it defines the cost function and the constraints on state variables and inputs."
   ]
  },
  {
   "cell_type": "code",
   "execution_count": 14,
   "metadata": {},
   "outputs": [],
   "source": [
    "def template_mpc(model, setup_mpc):\n",
    "\n",
    "    mpc = do_mpc.controller.MPC(model)\n",
    "\n",
    "    mpc.set_param(**setup_mpc)\n",
    "\n",
    "    # Cost function\n",
    "    mterm = model.aux['cost']\n",
    "    lterm = model.aux['cost']\n",
    "\n",
    "    mpc.set_objective(mterm=mterm, lterm=lterm)\n",
    "    mpc.set_rterm(phi=0.1)\n",
    "\n",
    "    # Constraints\n",
    "    mpc.bounds['lower', '_x', 'mRNA_LacI'] = 3.20e-2\n",
    "    mpc.bounds['lower', '_x', 'mRNA_TetR'] = 1.19e-1\n",
    "\n",
    "    mpc.bounds['lower', '_x', 'LacI'] = 0\n",
    "    mpc.bounds['lower', '_x', 'TetR'] = 0\n",
    "\n",
    "    mpc.bounds['lower', '_x', 'v1'] = 0\n",
    "    mpc.bounds['lower', '_x', 'v2'] = 0\n",
    "\n",
    "    mpc.bounds['lower', '_u', 'phi'] = 0\n",
    "    mpc.bounds['upper', '_u', 'phi'] = 1\n",
    "\n",
    "    mpc.setup()\n",
    "\n",
    "    return mpc\n"
   ]
  },
  {
   "cell_type": "markdown",
   "metadata": {},
   "source": [
    "# Simulator\n",
    "\n",
    "This function configure and setup the simulator, necessary for a first testing phase of the developed control approach."
   ]
  },
  {
   "cell_type": "code",
   "execution_count": 15,
   "metadata": {},
   "outputs": [],
   "source": [
    "def template_simulator(model, t_step):\n",
    "\n",
    "    simulator = do_mpc.simulator.Simulator(model)\n",
    "    simulator.set_param(t_step=t_step)\n",
    "\n",
    "    simulator.setup()\n",
    "\n",
    "    return simulator"
   ]
  },
  {
   "cell_type": "markdown",
   "metadata": {},
   "source": [
    "# Simulation parameters\n",
    "\n",
    "| Parameter  | Value| Meaning|\n",
    "|-------------|------|--------|\n",
    "|$total\\_time$|86400 s (24 h)| Total simulation time|\n",
    "|$t\\_step$|60s (1m)|Sample time|\n",
    "|$steps$|1440|Number of iterations of the control loop|\n",
    "|$avg\\_period$|14400 s (240m)|Period for calculating the average trajectory of the outputs|\n"
   ]
  },
  {
   "cell_type": "code",
   "execution_count": 22,
   "metadata": {},
   "outputs": [],
   "source": [
    "total_time = 20000 # Total simulation time 24h (86400s)\n",
    "t_step = 15  # Read states every 1m (60s)\n",
    "steps = int(total_time/t_step)  # Number of control step total_time/t_step 1440\n",
    "avg_period = 15  # Get average trajectory every 240 m (14400s)"
   ]
  },
  {
   "cell_type": "markdown",
   "metadata": {},
   "source": [
    "# Initial conditions"
   ]
  },
  {
   "cell_type": "code",
   "execution_count": 23,
   "metadata": {},
   "outputs": [],
   "source": [
    "x_0 = np.array([30, 50, 400, 125, 0.1, 0.5])"
   ]
  }
 ],
 "metadata": {
  "kernelspec": {
   "display_name": "Python 3.10.4 64-bit",
   "language": "python",
   "name": "python3"
  },
  "language_info": {
   "codemirror_mode": {
    "name": "ipython",
    "version": 3
   },
   "file_extension": ".py",
   "mimetype": "text/x-python",
   "name": "python",
   "nbconvert_exporter": "python",
   "pygments_lexer": "ipython3",
   "version": "3.10.4"
  },
  "orig_nbformat": 4,
  "vscode": {
   "interpreter": {
    "hash": "916dbcbb3f70747c44a77c7bcd40155683ae19c65e1c03b4aa3499c5328201f1"
   }
  }
 },
 "nbformat": 4,
 "nbformat_minor": 2
}
