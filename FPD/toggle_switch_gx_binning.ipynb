{
    "cells": [
        {
            "cell_type": "code",
            "execution_count": 1,
            "metadata": {},
            "outputs": [],
            "source": [
                "from databinning import *\n",
                "import gc"
            ]
        },
        {
            "cell_type": "code",
            "execution_count": 2,
            "metadata": {},
            "outputs": [],
            "source": [
                "x_dim = 2\n",
                "u_dim = 2\n",
                "\n",
                "x_min = np.zeros(x_dim)\n",
                "u_min = np.zeros(u_dim)\n",
                "\n",
                "x_max = np.array([150, 100])\n",
                "u_max = np.array([35, 0.35])\n",
                "\n",
                "x_discr = np.array([300, 200])\n",
                "u_discr = np.array([70, 35])\n",
                "\n",
                "x_step = np.array((x_max - x_min)/x_discr)\n",
                "u_step = np.array((u_max - u_min)/u_discr)"
            ]
        },
        {
            "cell_type": "code",
            "execution_count": 3,
            "metadata": {},
            "outputs": [],
            "source": [
                "plant = GaussianPlant(x_dim, x_discr, u_discr)\n",
                "g_x = plant.getConditional(x_discr, u_discr, x_step, u_step, x_min, u_min, np.array([x_step[0], x_step[1]]), ToggleSwitchSimplified(), False)\n",
                "np.save('./data/g_x.npy', g_x)\n"
            ]
        }
    ],
    "metadata": {
        "kernelspec": {
            "display_name": "Python 3.10.4 64-bit",
            "language": "python",
            "name": "python3"
        },
        "language_info": {
            "codemirror_mode": {
                "name": "ipython",
                "version": 3
            },
            "file_extension": ".py",
            "mimetype": "text/x-python",
            "name": "python",
            "nbconvert_exporter": "python",
            "pygments_lexer": "ipython3",
            "version": "3.10.4"
        },
        "vscode": {
            "interpreter": {
                "hash": "916dbcbb3f70747c44a77c7bcd40155683ae19c65e1c03b4aa3499c5328201f1"
            }
        }
    },
    "nbformat": 4,
    "nbformat_minor": 4
}
