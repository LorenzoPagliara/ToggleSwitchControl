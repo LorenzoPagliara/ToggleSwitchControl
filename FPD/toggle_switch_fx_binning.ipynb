{
    "cells": [
        {
            "cell_type": "code",
            "execution_count": 1,
            "metadata": {},
            "outputs": [],
            "source": [
                "from mpcbinning.controllers.controller import *\n",
                "from mpcbinning.utils.data_manipulation import *\n",
                "from databinning.plants.Plant import GaussianPlant\n",
                "from databinning.models.ToggleSwitch import ToggleSwitchSimplified\n",
                "import gc\n",
                "import sys"
            ]
        },
        {
            "cell_type": "code",
            "execution_count": 2,
            "metadata": {},
            "outputs": [],
            "source": [
                "x_dim = 2\n",
                "u_dim = 2\n",
                "\n",
                "x_min = np.zeros(x_dim)\n",
                "u_min = np.zeros(u_dim)\n",
                "\n",
                "x_max = np.array([150, 100])\n",
                "u_max = np.array([35, 0.35])\n",
                "\n",
                "x_discr = np.array([300, 200])\n",
                "u_discr = np.array([35, 35])\n",
                "\n",
                "x_step = np.array((x_max - x_min)/x_discr)\n",
                "u_step = np.array((u_max - u_min)/u_discr)"
            ]
        },
        {
            "cell_type": "code",
            "execution_count": null,
            "metadata": {},
            "outputs": [],
            "source": [
                "x1 = np.arange(x_min[0], x_max[0] + 2, 1)\n",
                "x2 = np.arange(x_min[1], x_max[1] + 2, 1)\n",
                "\n",
                "x_comb = np.array(np.meshgrid(x1, x2)).T.reshape(-1, 2)\n",
                "n_comb = x_comb.shape[0]\n",
                "print(n_comb)\n",
                "\n",
                "del x1, x2\n",
                "gc.collect()"
            ]
        },
        {
            "cell_type": "code",
            "execution_count": null,
            "metadata": {},
            "outputs": [],
            "source": [
                "total_time = 100\n",
                "t_step = 1\n",
                "steps = int(total_time/t_step)"
            ]
        },
        {
            "cell_type": "code",
            "execution_count": null,
            "metadata": {},
            "outputs": [],
            "source": [
                "setup_mpc = {\n",
                "    'n_robust': 1,\n",
                "    'n_horizon': 5,\n",
                "    't_step': t_step,\n",
                "    'store_full_solution': False\n",
                "}\n",
                "\n",
                "model = template_model(True)\n",
                "mpc = template_mpc(model, setup_mpc)\n",
                "simulator = template_simulator(model, t_step)\n",
                "estimator = do_mpc.estimator.StateFeedback(model)"
            ]
        },
        {
            "cell_type": "code",
            "execution_count": null,
            "metadata": {},
            "outputs": [],
            "source": [
                "%%capture --no-stderr\n",
                "\n",
                "trajectories = [0]*n_comb\n",
                "\n",
                "for i in range(n_comb):\n",
                "    print(\"Iteration: \" + str(i), file=sys.stderr)\n",
                "\n",
                "    mpc.reset_history()\n",
                "    simulator.reset_history()\n",
                "    estimator.reset_history()\n",
                "\n",
                "    x_0 = x_comb[i]\n",
                "\n",
                "    mpc.x0 = x_0\n",
                "    simulator.x0 = x_0\n",
                "    estimator.x0 = x_0\n",
                "    \n",
                "    mpc.set_initial_guess()\n",
                "\n",
                "    for k in range(steps):\n",
                "        u = mpc.make_step(x_0)\n",
                "        y_next = simulator.make_step(u, np.random.randn(model.n_v, 1), np.random.randn(model.n_w, 1))\n",
                "        x_0 = estimator.make_step(y_next)\n",
                "\n",
                "    x = np.array([x for x in mpc.data['_x'].tolist()])\n",
                "    u = np.array([x for x in mpc.data['_u'].tolist()])    \n",
                "    trajectories[i] = np.array([x, u]) \n",
                "    del x, u\n",
                "    gc.collect()\n",
                "\n",
                "del model, mpc, simulator, estimator, x_comb\n",
                "gc.collect()"
            ]
        },
        {
            "cell_type": "code",
            "execution_count": null,
            "metadata": {},
            "outputs": [],
            "source": [
                "np.save('./data/fx_trajectories.npy', trajectories)"
            ]
        },
        {
            "cell_type": "code",
            "execution_count": null,
            "metadata": {},
            "outputs": [],
            "source": [
                "plant = GaussianPlant(x_dim, x_discr, u_discr)\n",
                "f_x = plant.getPlant(trajectories, x_dim, u_dim, x_step, u_step, x_max, u_max, x_min, u_min, np.array([x_step[0], x_step[1]]))\n",
                "np.save('./data/f_x.npy', f_x)\n"
            ]
        }
    ],
    "metadata": {
        "kernelspec": {
            "display_name": "Python 3.10.4 64-bit",
            "language": "python",
            "name": "python3"
        },
        "language_info": {
            "codemirror_mode": {
                "name": "ipython",
                "version": 3
            },
            "file_extension": ".py",
            "mimetype": "text/x-python",
            "name": "python",
            "nbconvert_exporter": "python",
            "pygments_lexer": "ipython3",
            "version": "3.10.4"
        },
        "vscode": {
            "interpreter": {
                "hash": "916dbcbb3f70747c44a77c7bcd40155683ae19c65e1c03b4aa3499c5328201f1"
            }
        }
    },
    "nbformat": 4,
    "nbformat_minor": 4
}
